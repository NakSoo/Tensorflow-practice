{
 "cells": [
  {
   "cell_type": "code",
   "execution_count": 1,
   "metadata": {},
   "outputs": [],
   "source": [
    "import tensorflow as tf\n",
    "import os\n",
    "from tensorflow.examples.tutorials.mnist import input_data"
   ]
  },
  {
   "cell_type": "code",
   "execution_count": 2,
   "metadata": {},
   "outputs": [],
   "source": [
    "def rankBasedDropout(layer, batchSize, batchXS, batchYS,PH_X,PH_Y):\n",
    "\n",
    "    #maxValueAtEachBatch = tf.Variable(tf.random_normal([None, lenOfZ_layer],stddev=0.01))\n",
    "\n",
    "    init = tf.global_variables_initializer()\n",
    "    sess = tf.Session()\n",
    "    sess.run(init)\n",
    "\n",
    "    # maxValueAtEachBatch(tensor)를 기본 리스트형으로 변환.\n",
    "    maxValueAtEachBatch = tf.reduce_max(layer, 1)\n",
    "    maxValueAtEachBatch_toScalar = maxValueAtEachBatch.eval(session=sess,\n",
    "                                                            feed_dict={PH_X: batchXS, PH_Y:batchYS, keep_prob:0.8})\n",
    "\n",
    "    w,h = 2,batchSize\n",
    "    TwoDimArray_BatchIdx_MaxValue = [[0 for x in range(w)] for y in range(h)]\n",
    "\n",
    "    for i in range(batchSize):\n",
    "        TwoDimArray_BatchIdx_MaxValue[i][0] = i\n",
    "        TwoDimArray_BatchIdx_MaxValue[i][1] = maxValueAtEachBatch_toScalar[i]\n",
    "\n",
    "    TwoDimArray_BatchIdx_MaxValue.sort(key=lambda x:x[1])\n",
    "\n",
    "    #layer(tensor)를 기본 리스트형으로 변환.\n",
    "    layer_toScalar = layer.eval(session=sess,\n",
    "                                feed_dict={PH_X: batchXS, PH_Y: batchYS})\n",
    "\n",
    "    for i in range(batchSize):\n",
    "        k = TwoDimArray_BatchIdx_MaxValue[i][0]\n",
    "        layer_toScalar[k] *= (i/batchSize)\n",
    "\n",
    "    #layer(기본형)을 tensor로 변환.\n",
    "    layer = tf.convert_to_tensor(layer_toScalar,dtype=tf.float32)\n",
    "    sess.close()\n",
    "\n",
    "    return layer\n",
    "\n"
   ]
  },
  {
   "cell_type": "code",
   "execution_count": 3,
   "metadata": {},
   "outputs": [
    {
     "name": "stdout",
     "output_type": "stream",
     "text": [
      "WARNING:tensorflow:From <ipython-input-3-54a465ef534c>:3: read_data_sets (from tensorflow.contrib.learn.python.learn.datasets.mnist) is deprecated and will be removed in a future version.\n",
      "Instructions for updating:\n",
      "Please use alternatives such as official/mnist/dataset.py from tensorflow/models.\n",
      "WARNING:tensorflow:From C:\\Users\\skrtn\\Anaconda3\\lib\\site-packages\\tensorflow\\contrib\\learn\\python\\learn\\datasets\\mnist.py:260: maybe_download (from tensorflow.contrib.learn.python.learn.datasets.base) is deprecated and will be removed in a future version.\n",
      "Instructions for updating:\n",
      "Please write your own downloading logic.\n",
      "WARNING:tensorflow:From C:\\Users\\skrtn\\Anaconda3\\lib\\site-packages\\tensorflow\\contrib\\learn\\python\\learn\\datasets\\mnist.py:262: extract_images (from tensorflow.contrib.learn.python.learn.datasets.mnist) is deprecated and will be removed in a future version.\n",
      "Instructions for updating:\n",
      "Please use tf.data to implement this functionality.\n",
      "Extracting ./mnist/data\\train-images-idx3-ubyte.gz\n",
      "WARNING:tensorflow:From C:\\Users\\skrtn\\Anaconda3\\lib\\site-packages\\tensorflow\\contrib\\learn\\python\\learn\\datasets\\mnist.py:267: extract_labels (from tensorflow.contrib.learn.python.learn.datasets.mnist) is deprecated and will be removed in a future version.\n",
      "Instructions for updating:\n",
      "Please use tf.data to implement this functionality.\n",
      "Extracting ./mnist/data\\train-labels-idx1-ubyte.gz\n",
      "WARNING:tensorflow:From C:\\Users\\skrtn\\Anaconda3\\lib\\site-packages\\tensorflow\\contrib\\learn\\python\\learn\\datasets\\mnist.py:110: dense_to_one_hot (from tensorflow.contrib.learn.python.learn.datasets.mnist) is deprecated and will be removed in a future version.\n",
      "Instructions for updating:\n",
      "Please use tf.one_hot on tensors.\n",
      "Extracting ./mnist/data\\t10k-images-idx3-ubyte.gz\n",
      "Extracting ./mnist/data\\t10k-labels-idx1-ubyte.gz\n",
      "WARNING:tensorflow:From C:\\Users\\skrtn\\Anaconda3\\lib\\site-packages\\tensorflow\\contrib\\learn\\python\\learn\\datasets\\mnist.py:290: DataSet.__init__ (from tensorflow.contrib.learn.python.learn.datasets.mnist) is deprecated and will be removed in a future version.\n",
      "Instructions for updating:\n",
      "Please use alternatives such as official/mnist/dataset.py from tensorflow/models.\n"
     ]
    }
   ],
   "source": [
    "os.environ['TF_CPP_MIN_LOG_LEVEL'] = '2'\n",
    "\n",
    "mnist = input_data.read_data_sets(\"./mnist/data\",one_hot=True)"
   ]
  },
  {
   "cell_type": "code",
   "execution_count": 4,
   "metadata": {},
   "outputs": [],
   "source": [
    "\n",
    "X = tf.placeholder(tf.float32, [None, 784])\n",
    "Y = tf.placeholder(tf.float32, [None, 10])\n",
    "keep_prob = tf.placeholder(tf.float32)\n",
    "\n",
    "batchSize = 3\n",
    "\n",
    "batchXS, batchYS = mnist.train.next_batch(batchSize)\n",
    "\n",
    "W1 = tf.Variable(tf.random_normal([784, 256], stddev=0.01))\n",
    "model1 = tf.matmul(X,W1)\n",
    "L1 = tf.nn.relu(model1)\n",
    "L1 = rankBasedDropout(L1, batchSize, batchXS, batchYS,X,Y)\n",
    "L1 = tf.layers.batch_normalization(L1, training= True)\n",
    "\n",
    "W2 = tf.Variable(tf.random_normal([256,256], stddev=0.01))\n",
    "model2 = tf.matmul(L1, W2)\n",
    "L2 = tf.nn.relu(model2)\n",
    "L2 = rankBasedDropout(L2, batchSize,batchXS,batchYS,X,Y)\n",
    "L2 =tf.layers.batch_normalization(L2, training= True)\n",
    "\n",
    "W3 = tf.Variable(tf.random_normal([256, 10], stddev=0.01))\n",
    "model3 = tf.matmul(L2, W3)\n"
   ]
  },
  {
   "cell_type": "code",
   "execution_count": 5,
   "metadata": {},
   "outputs": [],
   "source": [
    "cost = tf.reduce_mean(tf.nn.softmax_cross_entropy_with_logits_v2(logits=model3, labels=Y))\n",
    "optimizer = tf.train.AdamOptimizer(0.001).minimize(cost)\n",
    "\n",
    "init = tf.global_variables_initializer()\n",
    "sess = tf.Session()\n",
    "sess.run(init)\n",
    "\n",
    "\n",
    "total_batch = int(mnist.train.num_examples/batchSize)\n",
    "\n"
   ]
  },
  {
   "cell_type": "code",
   "execution_count": null,
   "metadata": {},
   "outputs": [],
   "source": []
  }
 ],
 "metadata": {
  "kernelspec": {
   "display_name": "Python 3",
   "language": "python",
   "name": "python3"
  },
  "language_info": {
   "codemirror_mode": {
    "name": "ipython",
    "version": 3
   },
   "file_extension": ".py",
   "mimetype": "text/x-python",
   "name": "python",
   "nbconvert_exporter": "python",
   "pygments_lexer": "ipython3",
   "version": "3.6.7"
  }
 },
 "nbformat": 4,
 "nbformat_minor": 2
}
