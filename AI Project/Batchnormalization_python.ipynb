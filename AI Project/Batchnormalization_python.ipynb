{
 "cells": [
  {
   "cell_type": "code",
   "execution_count": 1,
   "metadata": {},
   "outputs": [],
   "source": [
    "import tensorflow as tf\n",
    "import numpy as np"
   ]
  },
  {
   "cell_type": "code",
   "execution_count": 2,
   "metadata": {},
   "outputs": [
    {
     "name": "stdout",
     "output_type": "stream",
     "text": [
      "WARNING:tensorflow:From <ipython-input-2-4dcbd946c02b>:2: read_data_sets (from tensorflow.contrib.learn.python.learn.datasets.mnist) is deprecated and will be removed in a future version.\n",
      "Instructions for updating:\n",
      "Please use alternatives such as official/mnist/dataset.py from tensorflow/models.\n",
      "WARNING:tensorflow:From C:\\Users\\skrtn\\Anaconda3\\lib\\site-packages\\tensorflow\\contrib\\learn\\python\\learn\\datasets\\mnist.py:260: maybe_download (from tensorflow.contrib.learn.python.learn.datasets.base) is deprecated and will be removed in a future version.\n",
      "Instructions for updating:\n",
      "Please write your own downloading logic.\n",
      "WARNING:tensorflow:From C:\\Users\\skrtn\\Anaconda3\\lib\\site-packages\\tensorflow\\contrib\\learn\\python\\learn\\datasets\\mnist.py:262: extract_images (from tensorflow.contrib.learn.python.learn.datasets.mnist) is deprecated and will be removed in a future version.\n",
      "Instructions for updating:\n",
      "Please use tf.data to implement this functionality.\n",
      "Extracting ./mnist/data/train-images-idx3-ubyte.gz\n",
      "WARNING:tensorflow:From C:\\Users\\skrtn\\Anaconda3\\lib\\site-packages\\tensorflow\\contrib\\learn\\python\\learn\\datasets\\mnist.py:267: extract_labels (from tensorflow.contrib.learn.python.learn.datasets.mnist) is deprecated and will be removed in a future version.\n",
      "Instructions for updating:\n",
      "Please use tf.data to implement this functionality.\n",
      "Extracting ./mnist/data/train-labels-idx1-ubyte.gz\n",
      "WARNING:tensorflow:From C:\\Users\\skrtn\\Anaconda3\\lib\\site-packages\\tensorflow\\contrib\\learn\\python\\learn\\datasets\\mnist.py:110: dense_to_one_hot (from tensorflow.contrib.learn.python.learn.datasets.mnist) is deprecated and will be removed in a future version.\n",
      "Instructions for updating:\n",
      "Please use tf.one_hot on tensors.\n",
      "Extracting ./mnist/data/t10k-images-idx3-ubyte.gz\n",
      "Extracting ./mnist/data/t10k-labels-idx1-ubyte.gz\n",
      "WARNING:tensorflow:From C:\\Users\\skrtn\\Anaconda3\\lib\\site-packages\\tensorflow\\contrib\\learn\\python\\learn\\datasets\\mnist.py:290: DataSet.__init__ (from tensorflow.contrib.learn.python.learn.datasets.mnist) is deprecated and will be removed in a future version.\n",
      "Instructions for updating:\n",
      "Please use alternatives such as official/mnist/dataset.py from tensorflow/models.\n"
     ]
    }
   ],
   "source": [
    "from tensorflow.examples.tutorials.mnist import input_data\n",
    "mnist = input_data.read_data_sets(\"./mnist/data/\", one_hot=True)"
   ]
  },
  {
   "cell_type": "code",
   "execution_count": 3,
   "metadata": {},
   "outputs": [],
   "source": [
    "X = tf.placeholder(tf.float32, [None, 784])\n",
    "Y = tf.placeholder(tf.float32, [None, 10])\n",
    "keep_prob = tf.placeholder(tf.float32)"
   ]
  },
  {
   "cell_type": "code",
   "execution_count": 4,
   "metadata": {},
   "outputs": [],
   "source": [
    "W1 = tf.Variable(tf.random_normal([784, 256], stddev=0.01))\n",
    "model1 = tf.matmul(X,W1)\n",
    "L1 = tf.nn.relu(model1)\n",
    "L1 = tf.layers.batch_normalization(L1, training= True)\n",
    "W2 = tf.Variable(tf.random_normal([256,256], stddev=0.01))\n",
    "model2 = tf.matmul(L1, W2)\n",
    "L2 = tf.nn.relu(model2)\n",
    "L2 =tf.layers.batch_normalization(L2, training= True)\n",
    "W3 = tf.Variable(tf.random_normal([256, 10], stddev=0.01))\n",
    "model3 = tf.matmul(L2, W3)"
   ]
  },
  {
   "cell_type": "code",
   "execution_count": 5,
   "metadata": {},
   "outputs": [],
   "source": [
    "cost = tf.reduce_mean(tf.nn.softmax_cross_entropy_with_logits_v2(logits=model3, labels=Y))\n",
    "optimizer = tf.train.AdamOptimizer(0.001).minimize(cost)"
   ]
  },
  {
   "cell_type": "code",
   "execution_count": 6,
   "metadata": {},
   "outputs": [
    {
     "name": "stdout",
     "output_type": "stream",
     "text": [
      "Tensor(\"MatMul:0\", shape=(?, 256), dtype=float32)\n"
     ]
    }
   ],
   "source": [
    "init = tf.global_variables_initializer()\n",
    "sess = tf.Session()\n",
    "sess.run(init)\n",
    "\n",
    "sess2 = tf.Session()\n",
    "batch_xs, batch_ys = mnist.train.next_batch(600)\n",
    "sess.run(model1, feed_dict={X:batch_xs, Y:batch_ys, keep_prob :0.8})\n",
    "print(model1)"
   ]
  },
  {
   "cell_type": "code",
   "execution_count": 34,
   "metadata": {},
   "outputs": [
    {
     "data": {
      "text/plain": [
       "array([136,  28, 212,  39, 173, 115,  81,  99,  55, 163, 219,  11,  93,\n",
       "       178, 135,  64, 218, 183,  10,  85,  14, 188, 136,  44, 123, 232,\n",
       "       188, 187, 127, 173,  53, 108,   0, 147, 185,  66, 163,  16, 235,\n",
       "        55,  93,  98, 194,  10, 196,  10, 154, 179,  73,  97, 101,  31,\n",
       "       186,  23, 142, 201, 187,  58,  99, 154, 251, 139,  51, 150, 234,\n",
       "        22,  23,  79,  98,  91, 182,  19, 249, 172, 179, 254,  23, 207,\n",
       "        77, 209,  30,  24,  24, 222,  53, 136,  88, 192, 237,  71, 193,\n",
       "       218,  28, 119, 139, 153,  78,  32,  27, 174, 167, 136,  52, 246,\n",
       "       130, 150,  37, 178,  55,  72, 207, 240,  55,  92, 120, 174, 195,\n",
       "       136, 136,  55, 179, 193, 114, 125, 191, 222, 203, 222,  37, 136,\n",
       "        14,  78, 221,   9,   0, 248, 136,  30,  62, 191, 230, 220, 201,\n",
       "        10, 178, 207,  55, 121,  91,  44, 236, 250, 114,  26,  53, 191,\n",
       "        39, 159,   7,   8, 220,  68,  10,  82, 122, 141, 153, 205, 130,\n",
       "       230,  26, 107, 211, 163, 100, 102, 100, 224, 225, 250, 148, 187,\n",
       "       245,   7, 198, 139, 243,  32,  96,   1, 221, 219, 191, 191,  18,\n",
       "       242,  75, 193,  31, 153, 142, 201, 182,  20,  94, 130, 229, 215,\n",
       "        37, 246, 112,  16, 209,  97,  31,  66,  56, 122,  73,  79,  77,\n",
       "       221, 250, 117, 200,  39,   8,  68,  24, 125, 178, 123,  11, 154,\n",
       "       134, 209, 249,  64,  48,  59,   4, 245, 248,   6, 234,  18, 132,\n",
       "       139, 130, 127, 246,   9,  60,  75, 124, 254,  46,  40, 216, 168,\n",
       "       232,  29, 144,  23, 225,  44, 168, 202,  37,  55,  49,  90, 110,\n",
       "        78, 118, 127,  20,  59, 193,  83, 112,  30, 131,  42, 213, 202,\n",
       "        27,  77, 212, 130, 162, 166,  32,  32,  16, 127, 130,  47, 245,\n",
       "       194,  75,  53, 119, 108, 236, 240,  37, 200, 143,  10, 171, 250,\n",
       "       115, 192,  51,  64,  55, 207,  93,  32,  14,  62,   6, 101, 192,\n",
       "       229, 161,  59,  53, 131, 136,  99,  34,  96, 112, 185,  81,   2,\n",
       "        48, 163,  60,  18,  75, 120,  56, 127,   8, 106,  65, 239,  30,\n",
       "       178, 168,  74,  14, 202,  36, 215, 150, 107, 140,  77, 231,  16,\n",
       "        86,  94,  72,  10,  51, 136, 243, 158,  91, 236,  90, 132,  85,\n",
       "       246, 135, 194,   9, 247,  61,  12, 105, 122, 215,  37,  36,  30,\n",
       "        18, 252,  44, 196,  71, 246,  61, 194,  19, 103, 183, 253,  60,\n",
       "       157,  75,  31,  20, 105, 249, 191,   7,  29, 211,  28, 179,  71,\n",
       "        40, 253,  61, 162, 249, 223, 234,  68, 185,  32,  10, 250,  99,\n",
       "       218, 113,  72,  56, 220,  31,  39,  99, 200, 127,  72,  46, 171,\n",
       "        32, 180, 220,  15,   7, 136, 220, 132, 200, 191, 229,  61,  24,\n",
       "        75, 130,  56, 221,  75,  45, 219,  32, 232, 137, 167,  57,  10,\n",
       "        81, 125,  31, 136,  83, 198,   7, 127, 103,  35,  55, 112, 220,\n",
       "       226,  66, 139, 165,  36,  23,  85,  70, 196, 250,  32, 177,  88,\n",
       "       218, 251, 209, 140,  45, 130, 131, 207, 112, 207, 199, 116,  49,\n",
       "        71, 141, 120, 201,  24,  30,  81, 157,  93,  16,  58, 252, 254,\n",
       "       172, 147,  82, 179,  55,  98, 202, 154,  32,  32, 179, 223, 128,\n",
       "       219, 228,  69, 103, 230, 193, 232,  66,  20,  97,  32,  71, 202,\n",
       "       161,   0,   0, 178,  20,  97, 179,  20, 235,  51,  57, 123, 252,\n",
       "       220, 158, 231, 110, 200,  56,  46, 200,  58, 185,  97, 182, 168,\n",
       "       240,  10, 222, 178, 155, 197, 107,  85, 169, 236, 127, 179,  45,\n",
       "       244, 217, 227, 136, 132,  60,  36,  27, 230, 181,   8,  99,  99,\n",
       "       200, 242], dtype=int64)"
      ]
     },
     "execution_count": 34,
     "metadata": {},
     "output_type": "execute_result"
    }
   ],
   "source": [
    "sess.run(L1, feed_dict={X:batch_xs, Y:batch_ys, keep_prob :0.8})\n",
    "myArrayIndex = []\n",
    "myArrayIndex = tf.argmax(L1,1) #각 행별로 가장 큰 인덱스 출력의 결과 리턴\n",
    "myArray = []\n",
    "for i in range(600) :\n",
    "    myArray.append([L1[i][myArrayIndex[i]], i])\n",
    "sess.run(myArrayIndex, feed_dict={X:batch_xs, Y:batch_ys, keep_prob :0.8})\n",
    "#sess.run(L1, feed_dict={X:batch_xs, Y:batch_ys, keep_prob :0.8})"
   ]
  },
  {
   "cell_type": "code",
   "execution_count": 36,
   "metadata": {},
   "outputs": [
    {
     "ename": "TypeError",
     "evalue": "Using a `tf.Tensor` as a Python `bool` is not allowed. Use `if t is not None:` instead of `if t:` to test if a tensor is defined, and use TensorFlow ops such as tf.cond to execute subgraphs conditioned on the value of a tensor.",
     "output_type": "error",
     "traceback": [
      "\u001b[1;31m---------------------------------------------------------------------------\u001b[0m",
      "\u001b[1;31mTypeError\u001b[0m                                 Traceback (most recent call last)",
      "\u001b[1;32m<ipython-input-36-3e39905875dc>\u001b[0m in \u001b[0;36m<module>\u001b[1;34m\u001b[0m\n\u001b[0;32m      1\u001b[0m \u001b[1;31m#sess.run(L1[0][myArrayIndex[0]], feed_dict={X:batch_xs, Y:batch_ys, keep_prob :0.8})\u001b[0m\u001b[1;33m\u001b[0m\u001b[1;33m\u001b[0m\u001b[1;33m\u001b[0m\u001b[0m\n\u001b[0;32m      2\u001b[0m \u001b[1;31m#sess.run(myArray, feed_dict={X:batch_xs, Y:batch_ys, keep_prob :0.8})\u001b[0m\u001b[1;33m\u001b[0m\u001b[1;33m\u001b[0m\u001b[1;33m\u001b[0m\u001b[0m\n\u001b[1;32m----> 3\u001b[1;33m \u001b[0mmyArray\u001b[0m\u001b[1;33m.\u001b[0m\u001b[0msort\u001b[0m\u001b[1;33m(\u001b[0m\u001b[1;33m)\u001b[0m\u001b[1;33m\u001b[0m\u001b[1;33m\u001b[0m\u001b[0m\n\u001b[0m\u001b[0;32m      4\u001b[0m \u001b[0msess\u001b[0m\u001b[1;33m.\u001b[0m\u001b[0mrun\u001b[0m\u001b[1;33m(\u001b[0m\u001b[0mmyArray\u001b[0m\u001b[1;33m,\u001b[0m \u001b[0mfeed_dict\u001b[0m\u001b[1;33m=\u001b[0m\u001b[1;33m{\u001b[0m\u001b[0mX\u001b[0m\u001b[1;33m:\u001b[0m\u001b[0mbatch_xs\u001b[0m\u001b[1;33m,\u001b[0m \u001b[0mY\u001b[0m\u001b[1;33m:\u001b[0m\u001b[0mbatch_ys\u001b[0m\u001b[1;33m,\u001b[0m \u001b[0mkeep_prob\u001b[0m \u001b[1;33m:\u001b[0m\u001b[1;36m0.8\u001b[0m\u001b[1;33m}\u001b[0m\u001b[1;33m)\u001b[0m\u001b[1;33m\u001b[0m\u001b[1;33m\u001b[0m\u001b[0m\n",
      "\u001b[1;32m~\\Anaconda3\\lib\\site-packages\\tensorflow\\python\\framework\\ops.py\u001b[0m in \u001b[0;36m__bool__\u001b[1;34m(self)\u001b[0m\n\u001b[0;32m    667\u001b[0m       \u001b[0;31m`\u001b[0m\u001b[0mTypeError\u001b[0m\u001b[0;31m`\u001b[0m\u001b[1;33m.\u001b[0m\u001b[1;33m\u001b[0m\u001b[1;33m\u001b[0m\u001b[0m\n\u001b[0;32m    668\u001b[0m     \"\"\"\n\u001b[1;32m--> 669\u001b[1;33m     raise TypeError(\"Using a `tf.Tensor` as a Python `bool` is not allowed. \"\n\u001b[0m\u001b[0;32m    670\u001b[0m                     \u001b[1;34m\"Use `if t is not None:` instead of `if t:` to test if a \"\u001b[0m\u001b[1;33m\u001b[0m\u001b[1;33m\u001b[0m\u001b[0m\n\u001b[0;32m    671\u001b[0m                     \u001b[1;34m\"tensor is defined, and use TensorFlow ops such as \"\u001b[0m\u001b[1;33m\u001b[0m\u001b[1;33m\u001b[0m\u001b[0m\n",
      "\u001b[1;31mTypeError\u001b[0m: Using a `tf.Tensor` as a Python `bool` is not allowed. Use `if t is not None:` instead of `if t:` to test if a tensor is defined, and use TensorFlow ops such as tf.cond to execute subgraphs conditioned on the value of a tensor."
     ]
    }
   ],
   "source": [
    "#sess.run(L1[0][myArrayIndex[0]], feed_dict={X:batch_xs, Y:batch_ys, keep_prob :0.8}) \n",
    "#sess.run(myArray, feed_dict={X:batch_xs, Y:batch_ys, keep_prob :0.8}) \n",
    "myArray.sort()\n",
    "sess.run(myArray, feed_dict={X:batch_xs, Y:batch_ys, keep_prob :0.8}) "
   ]
  },
  {
   "cell_type": "code",
   "execution_count": 9,
   "metadata": {},
   "outputs": [],
   "source": [
    "batch_size = 100\n",
    "total_batch = int(mnist.train.num_examples/batch_size)"
   ]
  },
  {
   "cell_type": "code",
   "execution_count": 10,
   "metadata": {},
   "outputs": [
    {
     "name": "stdout",
     "output_type": "stream",
     "text": [
      "Epoch:  0001 Avg. cost=  0.412\n",
      "Epoch:  0002 Avg. cost=  0.152\n",
      "Epoch:  0003 Avg. cost=  0.098\n",
      "Epoch:  0004 Avg. cost=  0.071\n",
      "Epoch:  0005 Avg. cost=  0.053\n",
      "Epoch:  0006 Avg. cost=  0.040\n",
      "Epoch:  0007 Avg. cost=  0.031\n",
      "Epoch:  0008 Avg. cost=  0.027\n",
      "Epoch:  0009 Avg. cost=  0.021\n",
      "Epoch:  0010 Avg. cost=  0.017\n",
      "Epoch:  0011 Avg. cost=  0.017\n",
      "Epoch:  0012 Avg. cost=  0.014\n",
      "Epoch:  0013 Avg. cost=  0.012\n",
      "Epoch:  0014 Avg. cost=  0.011\n",
      "Epoch:  0015 Avg. cost=  0.010\n",
      "Epoch:  0016 Avg. cost=  0.009\n",
      "Epoch:  0017 Avg. cost=  0.011\n",
      "Epoch:  0018 Avg. cost=  0.012\n",
      "Epoch:  0019 Avg. cost=  0.010\n",
      "Epoch:  0020 Avg. cost=  0.004\n",
      "Epoch:  0021 Avg. cost=  0.003\n",
      "Epoch:  0022 Avg. cost=  0.015\n",
      "Epoch:  0023 Avg. cost=  0.007\n",
      "Epoch:  0024 Avg. cost=  0.005\n",
      "Epoch:  0025 Avg. cost=  0.005\n",
      "Epoch:  0026 Avg. cost=  0.010\n",
      "Epoch:  0027 Avg. cost=  0.009\n",
      "Epoch:  0028 Avg. cost=  0.004\n",
      "Epoch:  0029 Avg. cost=  0.003\n",
      "Epoch:  0030 Avg. cost=  0.011\n",
      "최적화 완료!\n"
     ]
    }
   ],
   "source": [
    "for epoch in range(30):\n",
    "    total_cost = 0\n",
    "    \n",
    "    for i in range(total_batch):\n",
    "        #batch_size만큼 mnist데이터 가져오기\n",
    "        batch_xs, batch_ys = mnist.train.next_batch(batch_size)\n",
    "        #실행!\n",
    "        _, cost_val = sess.run([optimizer, cost],\n",
    "                              feed_dict={X:batch_xs, Y:batch_ys, keep_prob :0.8})\n",
    "        \n",
    "        total_cost += cost_val\n",
    "        \n",
    "    print('Epoch: ', '%04d' %(epoch+1), 'Avg. cost= ', '{:.3f}'.format(total_cost/total_batch))\n",
    "    \n",
    "print('최적화 완료!')"
   ]
  },
  {
   "cell_type": "code",
   "execution_count": 11,
   "metadata": {},
   "outputs": [
    {
     "name": "stdout",
     "output_type": "stream",
     "text": [
      "정확도: 0.9773\n"
     ]
    }
   ],
   "source": [
    "is_correct = tf.equal(tf.argmax(model3,1), tf.argmax(Y,1))\n",
    "accuracy = tf.reduce_mean(tf.cast(is_correct, tf.float32))\n",
    "print('정확도:', sess.run(accuracy, feed_dict={X:mnist.test.images, Y:mnist.test.labels, keep_prob:1}))"
   ]
  }
 ],
 "metadata": {
  "kernelspec": {
   "display_name": "Python 3",
   "language": "python",
   "name": "python3"
  },
  "language_info": {
   "codemirror_mode": {
    "name": "ipython",
    "version": 3
   },
   "file_extension": ".py",
   "mimetype": "text/x-python",
   "name": "python",
   "nbconvert_exporter": "python",
   "pygments_lexer": "ipython3",
   "version": "3.6.7"
  }
 },
 "nbformat": 4,
 "nbformat_minor": 2
}
