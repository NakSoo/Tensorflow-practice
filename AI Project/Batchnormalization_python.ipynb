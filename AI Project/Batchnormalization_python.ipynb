{
 "cells": [
  {
   "cell_type": "code",
   "execution_count": 1,
   "metadata": {},
   "outputs": [],
   "source": [
    "import tensorflow as tf\n",
    "import numpy as np"
   ]
  },
  {
   "cell_type": "code",
   "execution_count": 2,
   "metadata": {
    "collapsed": true
   },
   "outputs": [
    {
     "name": "stdout",
     "output_type": "stream",
     "text": [
      "WARNING:tensorflow:From <ipython-input-2-4dcbd946c02b>:2: read_data_sets (from tensorflow.contrib.learn.python.learn.datasets.mnist) is deprecated and will be removed in a future version.\n",
      "Instructions for updating:\n",
      "Please use alternatives such as official/mnist/dataset.py from tensorflow/models.\n",
      "WARNING:tensorflow:From C:\\Users\\skrtn\\Anaconda3\\lib\\site-packages\\tensorflow\\contrib\\learn\\python\\learn\\datasets\\mnist.py:260: maybe_download (from tensorflow.contrib.learn.python.learn.datasets.base) is deprecated and will be removed in a future version.\n",
      "Instructions for updating:\n",
      "Please write your own downloading logic.\n",
      "WARNING:tensorflow:From C:\\Users\\skrtn\\Anaconda3\\lib\\site-packages\\tensorflow\\contrib\\learn\\python\\learn\\datasets\\mnist.py:262: extract_images (from tensorflow.contrib.learn.python.learn.datasets.mnist) is deprecated and will be removed in a future version.\n",
      "Instructions for updating:\n",
      "Please use tf.data to implement this functionality.\n",
      "Extracting ./mnist/data/train-images-idx3-ubyte.gz\n",
      "WARNING:tensorflow:From C:\\Users\\skrtn\\Anaconda3\\lib\\site-packages\\tensorflow\\contrib\\learn\\python\\learn\\datasets\\mnist.py:267: extract_labels (from tensorflow.contrib.learn.python.learn.datasets.mnist) is deprecated and will be removed in a future version.\n",
      "Instructions for updating:\n",
      "Please use tf.data to implement this functionality.\n",
      "Extracting ./mnist/data/train-labels-idx1-ubyte.gz\n",
      "WARNING:tensorflow:From C:\\Users\\skrtn\\Anaconda3\\lib\\site-packages\\tensorflow\\contrib\\learn\\python\\learn\\datasets\\mnist.py:110: dense_to_one_hot (from tensorflow.contrib.learn.python.learn.datasets.mnist) is deprecated and will be removed in a future version.\n",
      "Instructions for updating:\n",
      "Please use tf.one_hot on tensors.\n",
      "Extracting ./mnist/data/t10k-images-idx3-ubyte.gz\n",
      "Extracting ./mnist/data/t10k-labels-idx1-ubyte.gz\n",
      "WARNING:tensorflow:From C:\\Users\\skrtn\\Anaconda3\\lib\\site-packages\\tensorflow\\contrib\\learn\\python\\learn\\datasets\\mnist.py:290: DataSet.__init__ (from tensorflow.contrib.learn.python.learn.datasets.mnist) is deprecated and will be removed in a future version.\n",
      "Instructions for updating:\n",
      "Please use alternatives such as official/mnist/dataset.py from tensorflow/models.\n"
     ]
    }
   ],
   "source": [
    "from tensorflow.examples.tutorials.mnist import input_data\n",
    "mnist = input_data.read_data_sets(\"./mnist/data/\", one_hot=True)"
   ]
  },
  {
   "cell_type": "code",
   "execution_count": 3,
   "metadata": {},
   "outputs": [],
   "source": [
    "X = tf.placeholder(tf.float32, [None, 784])\n",
    "Y = tf.placeholder(tf.float32, [None, 10])\n",
    "keep_prob = tf.placeholder(tf.float32)"
   ]
  },
  {
   "cell_type": "code",
   "execution_count": 4,
   "metadata": {},
   "outputs": [],
   "source": [
    "W1 = tf.Variable(tf.random_normal([784, 256], stddev=0.01))\n",
    "model1 = tf.matmul(X,W1)\n",
    "L1 = tf.nn.relu(model1)\n",
    "L1 = tf.layers.batch_normalization(L1, training= True)\n",
    "W2 = tf.Variable(tf.random_normal([256,256], stddev=0.01))\n",
    "model2 = tf.matmul(L1, W2)\n",
    "L2 = tf.nn.relu(model2)\n",
    "L2 =tf.layers.batch_normalization(L2, training= True)\n",
    "W3 = tf.Variable(tf.random_normal([256, 10], stddev=0.01))\n",
    "model3 = tf.matmul(L2, W3)"
   ]
  },
  {
   "cell_type": "code",
   "execution_count": 5,
   "metadata": {},
   "outputs": [],
   "source": [
    "cost = tf.reduce_mean(tf.nn.softmax_cross_entropy_with_logits_v2(logits=model3, labels=Y))\n",
    "optimizer = tf.train.AdamOptimizer(0.001).minimize(cost)"
   ]
  },
  {
   "cell_type": "code",
   "execution_count": 6,
   "metadata": {},
   "outputs": [
    {
     "name": "stdout",
     "output_type": "stream",
     "text": [
      "Tensor(\"MatMul:0\", shape=(?, 256), dtype=float32)\n"
     ]
    }
   ],
   "source": [
    "init = tf.global_variables_initializer()\n",
    "sess = tf.Session()\n",
    "sess.run(init)\n",
    "\n",
    "sess2 = tf.Session()\n",
    "batch_xs, batch_ys = mnist.train.next_batch(600)\n",
    "sess.run(model1, feed_dict={X:batch_xs, Y:batch_ys, keep_prob :0.8})\n",
    "print(model1)"
   ]
  },
  {
   "cell_type": "code",
   "execution_count": null,
   "metadata": {},
   "outputs": [],
   "source": [
    "sess.run(L1, feed_dict={X:batch_xs, Y:batch_ys, keep_prob :0.8})\n",
    "myArrayIndex = []\n",
    "myArrayIndex = tf.argmax(L1,1) #각 행별로 가장 큰 인덱스 출력의 결과 리턴\n",
    "for i in range(600):\n",
    " for j in range(600):\n",
    "         myArray = L1[i],[myArrayIndex[j]]\n",
    "sess.run(myArrayIndex, feed_dict={X:batch_xs, Y:batch_ys, keep_prob :0.8})\n",
    "#sess.run(L1, feed_dict={X:batch_xs, Y:batch_ys, keep_prob :0.8})"
   ]
  },
  {
   "cell_type": "code",
   "execution_count": 17,
   "metadata": {},
   "outputs": [
    {
     "data": {
      "text/plain": [
       "0.53266954"
      ]
     },
     "execution_count": 17,
     "metadata": {},
     "output_type": "execute_result"
    }
   ],
   "source": [
    "sess.run(L1[0][32], feed_dict={X:batch_xs, Y:batch_ys, keep_prob :0.8}) "
   ]
  },
  {
   "cell_type": "code",
   "execution_count": 9,
   "metadata": {},
   "outputs": [],
   "source": [
    "batch_size = 100\n",
    "total_batch = int(mnist.train.num_examples/batch_size)"
   ]
  },
  {
   "cell_type": "code",
   "execution_count": 10,
   "metadata": {},
   "outputs": [
    {
     "name": "stdout",
     "output_type": "stream",
     "text": [
      "Epoch:  0001 Avg. cost=  0.412\n",
      "Epoch:  0002 Avg. cost=  0.152\n",
      "Epoch:  0003 Avg. cost=  0.098\n",
      "Epoch:  0004 Avg. cost=  0.071\n",
      "Epoch:  0005 Avg. cost=  0.053\n",
      "Epoch:  0006 Avg. cost=  0.040\n",
      "Epoch:  0007 Avg. cost=  0.031\n",
      "Epoch:  0008 Avg. cost=  0.027\n",
      "Epoch:  0009 Avg. cost=  0.021\n",
      "Epoch:  0010 Avg. cost=  0.017\n",
      "Epoch:  0011 Avg. cost=  0.017\n",
      "Epoch:  0012 Avg. cost=  0.014\n",
      "Epoch:  0013 Avg. cost=  0.012\n",
      "Epoch:  0014 Avg. cost=  0.011\n",
      "Epoch:  0015 Avg. cost=  0.010\n",
      "Epoch:  0016 Avg. cost=  0.009\n",
      "Epoch:  0017 Avg. cost=  0.011\n",
      "Epoch:  0018 Avg. cost=  0.012\n",
      "Epoch:  0019 Avg. cost=  0.010\n",
      "Epoch:  0020 Avg. cost=  0.004\n",
      "Epoch:  0021 Avg. cost=  0.003\n",
      "Epoch:  0022 Avg. cost=  0.015\n",
      "Epoch:  0023 Avg. cost=  0.007\n",
      "Epoch:  0024 Avg. cost=  0.005\n",
      "Epoch:  0025 Avg. cost=  0.005\n",
      "Epoch:  0026 Avg. cost=  0.010\n",
      "Epoch:  0027 Avg. cost=  0.009\n",
      "Epoch:  0028 Avg. cost=  0.004\n",
      "Epoch:  0029 Avg. cost=  0.003\n",
      "Epoch:  0030 Avg. cost=  0.011\n",
      "최적화 완료!\n"
     ]
    }
   ],
   "source": [
    "for epoch in range(30):\n",
    "    total_cost = 0\n",
    "    \n",
    "    for i in range(total_batch):\n",
    "        #batch_size만큼 mnist데이터 가져오기\n",
    "        batch_xs, batch_ys = mnist.train.next_batch(batch_size)\n",
    "        #실행!\n",
    "        _, cost_val = sess.run([optimizer, cost],\n",
    "                              feed_dict={X:batch_xs, Y:batch_ys, keep_prob :0.8})\n",
    "        \n",
    "        total_cost += cost_val\n",
    "        \n",
    "    print('Epoch: ', '%04d' %(epoch+1), 'Avg. cost= ', '{:.3f}'.format(total_cost/total_batch))\n",
    "    \n",
    "print('최적화 완료!')"
   ]
  },
  {
   "cell_type": "code",
   "execution_count": 11,
   "metadata": {},
   "outputs": [
    {
     "name": "stdout",
     "output_type": "stream",
     "text": [
      "정확도: 0.9773\n"
     ]
    }
   ],
   "source": [
    "is_correct = tf.equal(tf.argmax(model3,1), tf.argmax(Y,1))\n",
    "accuracy = tf.reduce_mean(tf.cast(is_correct, tf.float32))\n",
    "print('정확도:', sess.run(accuracy, feed_dict={X:mnist.test.images, Y:mnist.test.labels, keep_prob:1}))"
   ]
  }
 ],
 "metadata": {
  "kernelspec": {
   "display_name": "Python 3",
   "language": "python",
   "name": "python3"
  },
  "language_info": {
   "codemirror_mode": {
    "name": "ipython",
    "version": 3
   },
   "file_extension": ".py",
   "mimetype": "text/x-python",
   "name": "python",
   "nbconvert_exporter": "python",
   "pygments_lexer": "ipython3",
   "version": "3.6.7"
  }
 },
 "nbformat": 4,
 "nbformat_minor": 2
}
